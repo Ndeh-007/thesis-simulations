{
 "cells": [
  {
   "cell_type": "code",
   "execution_count": 1,
   "metadata": {},
   "outputs": [],
   "source": [
    "import os\n",
    "import numpy as np\n",
    "import pandas as pd\n",
    "import time\n",
    "import shutil\n"
   ]
  },
  {
   "cell_type": "code",
   "execution_count": 2,
   "metadata": {},
   "outputs": [],
   "source": [
    "# construct params\n",
    "tmd = 4090\n",
    "oh = 0.1778\n",
    "od = 0.1143\n",
    "\n",
    "oh_volume = np.pi * ((0.5 * oh) ** 2) * tmd\n",
    "\n",
    "# geometry -> read base geom and update the entries with new values\n",
    "geometry = np.loadtxt(\"base/geometry.txt\", delimiter=\",\", dtype=float)\n",
    "geometry[:, 1] = od\n",
    "geometry[:, 2] = oh\n",
    "\n",
    "# fluids -> read base fluids\n",
    "fluids = np.loadtxt(\"base/fluids.txt\", delimiter=\",\", dtype=float)\n",
    "\n",
    "# numparams -> read base\n",
    "numparams = np.loadtxt(\"base/numparams.txt\", delimiter=\",\", dtype=float)\n",
    "\n",
    "# options -> read base\n",
    "options = np.loadtxt(\"base/options.txt\", delimiter=\",\", dtype=float)\n",
    "\n",
    "# pumping -> read base\n",
    "pumping = np.loadtxt(\"base/pumping.txt\", delimiter=\",\", dtype=float)"
   ]
  },
  {
   "cell_type": "code",
   "execution_count": 3,
   "metadata": {},
   "outputs": [],
   "source": [
    "# create fluids\n",
    "nn_heavy = np.array([1880, 10.48, 0.91, 0.73, 0.0])\n",
    "n_light = np.array([1000, 0.0, 0.02, 1.0, 0.0])\n",
    "nn_light = np.array([1500, 6.40, 0.62, 0.70, 0.0])\n",
    "n_heavy = np.array([1880, 0.0, 0.02, 1.0, 0.0])"
   ]
  },
  {
   "cell_type": "code",
   "execution_count": null,
   "metadata": {},
   "outputs": [],
   "source": [
    "# define mesh size\n",
    "# pair => (axial, azimuthal)\n",
    "az = 20\n",
    "mesh_grid = {\n",
    "    \"grid_0\": [  200, az],\n",
    "    \"grid_1\": [ 1022, az],\n",
    "    \"grid_2\": [ 2045, az],\n",
    "    \"grid_3\": [ 4090, az],\n",
    "    \"grid_4\": [ 8180, az],\n",
    "}"
   ]
  },
  {
   "cell_type": "code",
   "execution_count": 5,
   "metadata": {},
   "outputs": [],
   "source": [
    "# create pump cases\n",
    "nn_flow_rate = 1.2 / 60\n",
    "n_flow_rate = 1.0 / 60\n",
    "\n",
    "fluid_order = {\n",
    "    \"case_1\": np.vstack((n_light, n_heavy)),\n",
    "    \"case_2\": np.vstack((n_light, nn_heavy)),\n",
    "    \"case_3\": np.vstack((nn_light, n_heavy)),\n",
    "    \"case_4\": np.vstack((nn_light, nn_heavy)),\n",
    "}\n",
    "\n",
    "# pump schedules\n",
    "pumping_entries = {\n",
    "    \"case_1\": [oh_volume/n_flow_rate, n_flow_rate],\n",
    "    \"case_2\": [oh_volume/nn_flow_rate, nn_flow_rate],\n",
    "    \"case_3\": [oh_volume/n_flow_rate, n_flow_rate],\n",
    "    \"case_4\": [oh_volume/nn_flow_rate, nn_flow_rate],\n",
    "}\n"
   ]
  },
  {
   "cell_type": "code",
   "execution_count": 7,
   "metadata": {},
   "outputs": [],
   "source": [
    "def write_section_parameters(params_directory: str, grid_id: str, flow_case_id: str ):\n",
    "    \n",
    "    # get the fluids \n",
    "    fluids = fluid_order[flow_case_id]\n",
    "    \n",
    "    # update the pump schedule\n",
    "    pumping = np.array([pumping_entries[flow_case_id] + [0.0, 1.0]])\n",
    "    \n",
    "    # update the numparams\n",
    "    numparams[0] = mesh_grid[grid_id][0]\n",
    "    numparams[1] = mesh_grid[grid_id][1]\n",
    "\n",
    "    # do not change the options\n",
    "    # do not change the geometry\n",
    "\n",
    "    # save the files to their various locations\n",
    "    np.savetxt(os.path.join(params_directory, \"fluids.txt\"), fluids, delimiter=\",\")\n",
    "    np.savetxt(os.path.join(params_directory, \"geometry.txt\"), geometry, delimiter=\",\")\n",
    "    np.savetxt(os.path.join(params_directory, \"numparams.txt\"), numparams, delimiter=\",\")\n",
    "    np.savetxt(os.path.join(params_directory, \"pumping.txt\"), pumping, delimiter=\",\")\n",
    "    np.savetxt(os.path.join(params_directory, \"options.txt\"), options, delimiter=\",\")\n",
    "\n",
    "# create the directories\n",
    "def make_case_directories():\n",
    "    current_dir = os.getcwd()\n",
    "    np.savetxt(os.path.join(current_dir, \"durations.csv\"), np.array([]))\n",
    "\n",
    "    for grid_key, grid in mesh_grid.items():\n",
    "\n",
    "        for flow_case in fluid_order.keys():\n",
    "            case_dir = os.path.join(current_dir, f\"{grid_key}-{flow_case}\")\n",
    "            os.makedirs(case_dir, exist_ok=True)\n",
    "\n",
    "            # create the params/results directories\n",
    "            params_dir = os.path.join(case_dir, \"params\")\n",
    "            results_dir = os.path.join(case_dir, \"results\")\n",
    "            os.makedirs(params_dir, exist_ok=True)\n",
    "            os.makedirs(results_dir, exist_ok=True)\n",
    "\n",
    "            # write the parameters to the section params dir.\n",
    "            write_section_parameters(params_dir, grid_key, flow_case)\n"
   ]
  },
  {
   "cell_type": "code",
   "execution_count": 8,
   "metadata": {},
   "outputs": [],
   "source": [
    "# invoke.\n",
    "# always run all cells if anything is changed anywhere\n",
    "\n",
    "make_case_directories()"
   ]
  }
 ],
 "metadata": {
  "kernelspec": {
   "display_name": "Python 3",
   "language": "python",
   "name": "python3"
  },
  "language_info": {
   "codemirror_mode": {
    "name": "ipython",
    "version": 3
   },
   "file_extension": ".py",
   "mimetype": "text/x-python",
   "name": "python",
   "nbconvert_exporter": "python",
   "pygments_lexer": "ipython3",
   "version": "3.10.7"
  }
 },
 "nbformat": 4,
 "nbformat_minor": 2
}
